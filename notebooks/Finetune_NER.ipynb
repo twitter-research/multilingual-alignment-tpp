{
 "cells": [
  {
   "cell_type": "markdown",
   "metadata": {
    "id": "IQvKaDo8TL5n"
   },
   "source": [
    "```\n",
    "// Copyright 2020 Twitter, Inc.\n",
    "// SPDX-License-Identifier: Apache-2.0\n",
    "```\n",
    "\n",
    "# Finetune NER model\n",
    "\n",
    "Take an existing BERT model (with or without TPP pre-training) and fine-tune it on an NER dataset."
   ]
  },
  {
   "cell_type": "markdown",
   "metadata": {
    "id": "z-sQcyRjtIzG"
   },
   "source": [
    "## Setup libraries"
   ]
  },
  {
   "cell_type": "code",
   "execution_count": null,
   "metadata": {
    "id": "udrSQV_OTa9m"
   },
   "outputs": [],
   "source": [
    "%pip install transformers==3.5.1 datasets==1.1.2 torch==1.4.0 seqeval==1.2.2 gensim==3.8.1"
   ]
  },
  {
   "cell_type": "markdown",
   "metadata": {
    "id": "44VUrQt_fid0"
   },
   "source": [
    "## Define parameters"
   ]
  },
  {
   "cell_type": "code",
   "execution_count": null,
   "metadata": {
    "id": "h0l5nl9keGB_"
   },
   "outputs": [],
   "source": [
    "WIKI_TRAINING = False\n",
    "SSEA_TRAINING = False\n",
    "\n",
    "HOMEDIR = \"./\"\n",
    "DATADIR = f\"{HOMEDIR}/\"\n",
    "pre_trained_model_path = \"bert-base-multilingual-uncased\"\n"
   ]
  },
  {
   "cell_type": "markdown",
   "metadata": {
    "id": "5_zHZWACsTZ5"
   },
   "source": [
    "## Setup Helpers"
   ]
  },
  {
   "cell_type": "code",
   "execution_count": null,
   "metadata": {
    "id": "KB7PTvydTL5t"
   },
   "outputs": [],
   "source": [
    "import json\n",
    "import random\n",
    "import re\n",
    "from dataclasses import dataclass\n",
    "from pathlib import Path\n",
    "from typing import Any, Callable, Dict, List, NewType, Optional, Tuple, Union\n",
    "\n",
    "import numpy as np\n",
    "import pandas as pd\n",
    "import torch\n",
    "from IPython.core.debugger import set_trace\n",
    "from torch.nn.utils.rnn import pad_sequence\n",
    "from tqdm import tqdm, trange\n",
    "from transformers import (\n",
    "    BertForTokenClassification,\n",
    "    BertTokenizerFast,\n",
    "    Pipeline,\n",
    "    RobertaTokenizerFast,\n",
    "    TokenClassificationPipeline,\n",
    "    Trainer,\n",
    "    TrainingArguments,\n",
    ")\n",
    "from transformers.tokenization_utils_base import (\n",
    "    BatchEncoding,\n",
    "    PaddingStrategy,\n",
    "    PreTrainedTokenizerBase,\n",
    ")\n",
    "\n",
    "from seqeval.metrics import (\n",
    "    accuracy_score,\n",
    "    classification_report,\n",
    "    f1_score,\n",
    "    precision_score,\n",
    "    recall_score,\n",
    ")"
   ]
  },
  {
   "cell_type": "code",
   "execution_count": null,
   "metadata": {
    "id": "PkYrxAuOTL5u"
   },
   "outputs": [],
   "source": [
    "URL_REGEX = re.compile(r\"^http[s]?://[^ ]+\")\n",
    "\n",
    "\n",
    "def clean_tokens(token):\n",
    "    # Sometimes a token starts or is equal to an empty string which matches the unicode char of id 65039\n",
    "    if ord(token[0]) == 65039:\n",
    "        token = token[1:]\n",
    "    if token == chr(65039):\n",
    "        return \"\"\n",
    "    if token == \"\\n\":\n",
    "        return \"[LF]\"\n",
    "    return URL_REGEX.sub(\"[URL]\", token)\n",
    "\n",
    "\n",
    "def read_ner_data(file_path):\n",
    "    with open(file_path) as fp:\n",
    "        all_tokens = []\n",
    "        all_labels = []\n",
    "        for line in tqdm(fp):\n",
    "            line = json.loads(line)\n",
    "            tokens = line[\"tokens\"]\n",
    "            labels = line[\"labels\"]\n",
    "            tokens = [clean_tokens(token) for token in tokens]\n",
    "            # Remove empty tokens\n",
    "            tokens, labels = tuple(\n",
    "                zip(*[(t, l) for t, l in zip(tokens, labels) if t and t.strip()])\n",
    "            )\n",
    "            all_tokens.append(tokens)\n",
    "            all_labels.append(labels)\n",
    "    return all_tokens, all_labels\n",
    "\n",
    "\n",
    "label2id = {\n",
    "    \"O_NOT_AN_ENTITY\": 1,\n",
    "    \"B_PERSON\": 2,\n",
    "    \"I_PERSON\": 3,\n",
    "    \"B_PLACE\": 4,\n",
    "    \"I_PLACE\": 5,\n",
    "    \"B_PRODUCT\": 6,\n",
    "    \"I_PRODUCT\": 7,\n",
    "    \"B_ORGANIZATION\": 8,\n",
    "    \"I_ORGANIZATION\": 9,\n",
    "    \"B_OTHER\": 10,\n",
    "    \"I_OTHER\": 11,\n",
    "    \"O_PLACEHOLDER\": 12,\n",
    "}\n",
    "\n",
    "if WIKI_TRAINING:\n",
    "    label2id = {\n",
    "        \"O_NOT_AN_ENTITY\": 1,\n",
    "        \"B_PERSON\": 2,\n",
    "        \"I_PERSON\": 3,\n",
    "        \"B_LOCATION\": 4,\n",
    "        \"I_LOCATION\": 5,\n",
    "        \"B_ORGANIZATION\": 6,\n",
    "        \"I_ORGANIZATION\": 7,\n",
    "        \"B_COMPANY\": 8,\n",
    "        \"I_COMPANY\": 9,\n",
    "        \"B_BAND\": 10,\n",
    "        \"I_BAND\": 11,\n",
    "        \"B_MOVIE\": 12,\n",
    "        \"I_MOVIE\": 13,\n",
    "        \"B_SPORTS_TEAM\": 14,\n",
    "        \"I_SPORTS_TEAM\": 15,\n",
    "        \"B_TV_SERIES\": 16,\n",
    "        \"I_TV_SERIES\": 17,\n",
    "        \"B_TV_SHOW\": 18,\n",
    "        \"I_TV_SHOW\": 19,\n",
    "        \"O_PLACEHOLDER\": 20,\n",
    "    }\n",
    "\n",
    "LABEL_MAP = {\n",
    "    k: k.replace(\"_\", \"-\") if k != \"O_NOT_AN_ENTITY\" else \"O\" for k in label2id\n",
    "}\n",
    "label2id = {LABEL_MAP[k]: v - 1 for k, v in label2id.items()}\n",
    "\n",
    "id2label = {v: k for k, v in label2id.items()}"
   ]
  },
  {
   "cell_type": "code",
   "execution_count": null,
   "metadata": {
    "id": "hhehagh0TL5w"
   },
   "outputs": [],
   "source": [
    "class SplitTokenClassificationPipeline(TokenClassificationPipeline):\n",
    "    def __init__(self, **kwargs):\n",
    "        super().__init__(**kwargs)\n",
    "\n",
    "    def __call__(self, inputs: Union[str, List[str]], **kwargs):\n",
    "        \"\"\"\n",
    "    Classify each token of the text(s) given as inputs.\n",
    "    Args:\n",
    "        inputs (:obj:`str` or :obj:`List[str]`):\n",
    "            One or several texts (or one list of texts) for token classification.\n",
    "    Return:\n",
    "        A list or a list of list of :obj:`dict`: Each result comes as a list of dictionaries (one for each token in\n",
    "        the corresponding input, or each entity if this pipeline was instantiated with\n",
    "        :obj:`grouped_entities=True`) with the following keys:\n",
    "        - **word** (:obj:`str`) -- The token/word classified.\n",
    "        - **score** (:obj:`float`) -- The corresponding probability for :obj:`entity`.\n",
    "        - **entity** (:obj:`str`) -- The entity predicted for that token/word.\n",
    "        - **index** (:obj:`int`, only present when ``self.grouped_entities=False``) -- The index of the\n",
    "          corresponding token in the sentence.\n",
    "    \"\"\"\n",
    "        inputs, offset_mappings = self._args_parser(\n",
    "            inputs, **kwargs\n",
    "        )\n",
    "\n",
    "        answers = []\n",
    "\n",
    "        for i, sentence in enumerate(\n",
    "            inputs[0]\n",
    "        ):  # Another addition to only select first list item in newer version\n",
    "            # Manage correct placement of the tensors\n",
    "            with self.device_placement():\n",
    "\n",
    "                tokens = self.tokenizer(\n",
    "                    sentence,\n",
    "                    return_attention_mask=False,\n",
    "                    return_tensors=self.framework,\n",
    "                    truncation=True,\n",
    "                    return_special_tokens_mask=True,\n",
    "                    return_offsets_mapping=self.tokenizer.is_fast,\n",
    "                    is_split_into_words=True,  # This is the new addition,\n",
    "                    padding=True,\n",
    "                    max_length=self.tokenizer.max_len,\n",
    "                )\n",
    "                if self.tokenizer.is_fast:\n",
    "                    offset_mapping = tokens.pop(\"offset_mapping\").cpu().numpy()[0]\n",
    "                elif offset_mappings:\n",
    "                    offset_mapping = offset_mappings[i]\n",
    "                else:\n",
    "                    offset_mapping = None\n",
    "\n",
    "                special_tokens_mask = tokens.pop(\"special_tokens_mask\").cpu().numpy()[0]\n",
    "\n",
    "                # Forward\n",
    "                if self.framework == \"tf\":\n",
    "                    entities = self.model(tokens.data)[0][0].numpy()\n",
    "                    input_ids = tokens[\"input_ids\"].numpy()[0]\n",
    "                else:\n",
    "                    with torch.no_grad():\n",
    "                        tokens = self.ensure_tensor_on_device(**tokens)\n",
    "                        entities = self.model(**tokens)[0][0].cpu().numpy()\n",
    "                        input_ids = tokens[\"input_ids\"].cpu().numpy()[0]\n",
    "\n",
    "            score = np.exp(entities) / np.exp(entities).sum(-1, keepdims=True)\n",
    "            labels_idx = score.argmax(axis=-1)\n",
    "\n",
    "            entities = []\n",
    "            # Filter to labels not in `self.ignore_labels`\n",
    "            # Filter special_tokens\n",
    "            filtered_labels_idx = [\n",
    "                (idx, label_idx)\n",
    "                for idx, label_idx in enumerate(labels_idx)\n",
    "                if (self.model.config.id2label[label_idx] not in self.ignore_labels)\n",
    "                and not special_tokens_mask[idx]\n",
    "            ]\n",
    "\n",
    "            for idx, label_idx in filtered_labels_idx:\n",
    "                if offset_mapping is not None:\n",
    "                    start_ind, end_ind = offset_mapping[idx]\n",
    "                    word_ref = sentence[start_ind:end_ind]\n",
    "                    word = self.tokenizer.convert_ids_to_tokens([int(input_ids[idx])])[\n",
    "                        0\n",
    "                    ]\n",
    "                    is_subword = len(word_ref) != len(word)\n",
    "\n",
    "                    if int(input_ids[idx]) == self.tokenizer.unk_token_id:\n",
    "                        word = word_ref\n",
    "                        is_subword = False\n",
    "                else:\n",
    "                    word = self.tokenizer.convert_ids_to_tokens(int(input_ids[idx]))\n",
    "\n",
    "                entity = {\n",
    "                    \"word\": word,\n",
    "                    \"score\": score[idx][label_idx].item(),\n",
    "                    \"entity\": self.model.config.id2label[label_idx],\n",
    "                    \"index\": idx,\n",
    "                    \"offset\": (start_ind, end_ind),\n",
    "                }\n",
    "\n",
    "                entity[\"is_subword\"] = is_subword  # Another addition\n",
    "\n",
    "                if self.grouped_entities and self.ignore_subwords:\n",
    "                    entity[\"is_subword\"] = is_subword\n",
    "\n",
    "                entities += [entity]\n",
    "\n",
    "            if self.grouped_entities:\n",
    "                answers += [self.group_entities(entities)]\n",
    "            # Append ungrouped entities\n",
    "            else:\n",
    "                answers += [entities]\n",
    "\n",
    "        if len(answers) == 1:\n",
    "            return answers[0]\n",
    "        return answers\n",
    "\n",
    "\n",
    "# Metrics\n",
    "def compute_metrics(all_preds, all_labels, return_report=False, extra_label_map=None):\n",
    "    if extra_label_map is None:\n",
    "        extra_label_map = {}\n",
    "\n",
    "    def clean_pred(preds):\n",
    "        return [p[\"entity\"] for p in preds if p[\"offset\"][0] == 0]\n",
    "\n",
    "    def clean_label(labels):\n",
    "        return [LABEL_MAP[extra_label_map.get(l, l)] for l in labels]\n",
    "\n",
    "    true_predictions = [clean_pred(preds) for preds in all_preds]\n",
    "    true_labels = [clean_label(labels) for labels in all_labels]\n",
    "    tp = []\n",
    "    tl = []\n",
    "    num_errors = 0\n",
    "    for i, (p, l) in enumerate(zip(true_predictions, true_labels)):\n",
    "        if len(p) != len(l):\n",
    "            num_errors += 1\n",
    "            continue\n",
    "        tp.append(p)\n",
    "        tl.append(l)\n",
    "\n",
    "    print(f\"Found {num_errors} errors in length mismatch.\")\n",
    "    true_predictions = tp\n",
    "    true_labels = tl\n",
    "\n",
    "    metrics = {\n",
    "        \"accuracy_score\": accuracy_score(true_labels, true_predictions),\n",
    "        \"precision\": precision_score(true_labels, true_predictions),\n",
    "        \"recall\": recall_score(true_labels, true_predictions),\n",
    "        \"f1\": f1_score(true_labels, true_predictions),\n",
    "    }\n",
    "\n",
    "    if return_report:\n",
    "        report = classification_report(true_labels, true_predictions, output_dict=True)\n",
    "        return report\n",
    "\n",
    "    return metrics\n",
    "\n",
    "\n",
    "def get_preds(all_tokens, ner_pipeline):\n",
    "    all_preds = []\n",
    "    batch_size = 64\n",
    "    for i in trange(0, len(all_tokens) + batch_size, batch_size):\n",
    "        batch = all_tokens[i : i + batch_size]\n",
    "        if batch:\n",
    "            preds = ner_pipeline(batch)\n",
    "            all_preds.extend(preds)\n",
    "    return all_preds\n",
    "\n",
    "\n",
    "def run_eval(data_path, ner_pipeline, extra_label_map=None):\n",
    "    all_tokens, all_labels = read_ner_data(data_path)\n",
    "    all_preds = get_preds(all_tokens, ner_pipeline)\n",
    "    report = compute_metrics(\n",
    "        all_preds, all_labels, return_report=True, extra_label_map=extra_label_map\n",
    "    )\n",
    "    df_report = pd.DataFrame.from_dict(report, orient=\"index\")\n",
    "    return df_report"
   ]
  },
  {
   "cell_type": "code",
   "execution_count": null,
   "metadata": {
    "id": "gckyMlICTL5y"
   },
   "outputs": [],
   "source": [
    "@dataclass\n",
    "class DataCollatorForTokenClassification:\n",
    "    \"\"\"\n",
    "    NOTE: Code taken from huggingface transformers library\n",
    "    Data collator that will dynamically pad the inputs received, as well as the labels.\n",
    "    Args:\n",
    "        tokenizer (:class:`~transformers.PreTrainedTokenizer` or :class:`~transformers.PreTrainedTokenizerFast`):\n",
    "            The tokenizer used for encoding the data.\n",
    "        padding (:obj:`bool`, :obj:`str` or :class:`~transformers.tokenization_utils_base.PaddingStrategy`, `optional`, defaults to :obj:`True`):\n",
    "            Select a strategy to pad the returned sequences (according to the model's padding side and padding index)\n",
    "            among:\n",
    "            * :obj:`True` or :obj:`'longest'`: Pad to the longest sequence in the batch (or no padding if only a single\n",
    "              sequence if provided).\n",
    "            * :obj:`'max_length'`: Pad to a maximum length specified with the argument :obj:`max_length` or to the\n",
    "              maximum acceptable input length for the model if that argument is not provided.\n",
    "            * :obj:`False` or :obj:`'do_not_pad'` (default): No padding (i.e., can output a batch with sequences of\n",
    "              different lengths).\n",
    "        max_length (:obj:`int`, `optional`):\n",
    "            Maximum length of the returned list and optionally padding length (see above).\n",
    "        pad_to_multiple_of (:obj:`int`, `optional`):\n",
    "            If set will pad the sequence to a multiple of the provided value.\n",
    "            This is especially useful to enable the use of Tensor Cores on NVIDIA hardware with compute capability >=\n",
    "            7.5 (Volta).\n",
    "        label_pad_token_id (:obj:`int`, `optional`, defaults to -100):\n",
    "            The id to use when padding the labels (-100 will be automatically ignore by PyTorch loss functions).\n",
    "    \"\"\"\n",
    "\n",
    "    tokenizer: PreTrainedTokenizerBase\n",
    "    padding: Union[bool, str, PaddingStrategy] = True\n",
    "    max_length: Optional[int] = None\n",
    "    pad_to_multiple_of: Optional[int] = None\n",
    "    label_pad_token_id: int = -100\n",
    "\n",
    "    def __call__(self, features):\n",
    "        label_name = \"label\" if \"label\" in features[0].keys() else \"labels\"\n",
    "        labels = (\n",
    "            [feature[label_name] for feature in features]\n",
    "            if label_name in features[0].keys()\n",
    "            else None\n",
    "        )\n",
    "        for feature in features:\n",
    "            feature.pop(label_name)\n",
    "        batch = self.tokenizer.pad(\n",
    "            features,\n",
    "            padding=self.padding,\n",
    "            max_length=self.max_length,\n",
    "            pad_to_multiple_of=self.pad_to_multiple_of,\n",
    "            # Conversion to tensors will fail if we have labels as they are not of the same length yet.\n",
    "            return_tensors=\"pt\" if labels is None else None,\n",
    "        )\n",
    "\n",
    "        if labels is None:\n",
    "            return batch\n",
    "\n",
    "        sequence_length = torch.tensor(batch[\"input_ids\"]).shape[1]\n",
    "        padding_side = self.tokenizer.padding_side\n",
    "        if padding_side == \"right\":\n",
    "            batch[\"labels\"] = [\n",
    "                label.tolist()\n",
    "                + [self.label_pad_token_id] * (sequence_length - len(label))\n",
    "                for label in labels\n",
    "            ]\n",
    "        else:\n",
    "            batch[\"labels\"] = [\n",
    "                [self.label_pad_token_id] * (sequence_length - len(label))\n",
    "                + label.tolist()\n",
    "                for label in labels\n",
    "            ]\n",
    "\n",
    "        batch = {\n",
    "            k: torch.tensor(v, dtype=torch.int64)[:, : self.max_length]\n",
    "            for k, v in batch.items()\n",
    "        }\n",
    "        return batch"
   ]
  },
  {
   "cell_type": "code",
   "execution_count": null,
   "metadata": {
    "id": "Etq09vADTL5z"
   },
   "outputs": [],
   "source": [
    "def encode_labels(labels, encodings):\n",
    "    labels = [label2id[LABEL_MAP[label]] for label in labels]\n",
    "    offset = encodings[\"offset_mapping\"]\n",
    "    # create an empty array of -100\n",
    "    n = len(offset)\n",
    "    doc_enc_labels = np.ones(n, dtype=int) * -100\n",
    "    arr_offset = np.array(offset)\n",
    "    positions = np.arange(n)\n",
    "    mask = (arr_offset[:, 0] == 0) & (\n",
    "        (positions != 0) & (positions != n - 1)\n",
    "    )\n",
    "    # set labels whose first offset position is 0 and the second is not 0\n",
    "    doc_enc_labels[mask] = labels\n",
    "    return doc_enc_labels.tolist()\n",
    "\n",
    "\n",
    "class NERDataset(torch.utils.data.Dataset):\n",
    "    def __init__(self, file_paths, tokenizer):\n",
    "        self.file_paths = file_paths if isinstance(file_paths, list) else [file_paths]\n",
    "        self.tokenizer = tokenizer\n",
    "        self._setup()\n",
    "\n",
    "    def _setup(self):\n",
    "        all_tokens, all_labels = [], []\n",
    "        for file_path in self.file_paths:\n",
    "            all_tokens_fp, all_labels_fp = read_ner_data(file_path)\n",
    "            all_tokens += all_tokens_fp\n",
    "            all_labels += all_labels_fp\n",
    "        self.data = []\n",
    "        num_errors = 0\n",
    "        all_encodings = encodings = self.tokenizer(\n",
    "            all_tokens, is_split_into_words=True, return_offsets_mapping=True\n",
    "        )\n",
    "\n",
    "        for i, (tokens, labels) in tqdm(enumerate(zip(all_tokens, all_labels))):\n",
    "            if len(tokens) == 0 or len(labels) == 0:\n",
    "                num_errors += 1\n",
    "                continue\n",
    "            try:\n",
    "                encodings = {k: all_encodings[k][i] for k in all_encodings}\n",
    "                labels = encode_labels(labels, encodings)\n",
    "                encodings.pop(\"offset_mapping\")  # Don't pass to model\n",
    "                self.data.append((encodings, labels))\n",
    "            except ValueError as e:\n",
    "                num_errors += 1\n",
    "                continue\n",
    "        print(\n",
    "            f\"Errors: {num_errors}, data={len(self.data)}, %error={num_errors*100./len(self.data)}\"\n",
    "        )\n",
    "\n",
    "    def __getitem__(self, idx):\n",
    "        encodings, labels = self.data[idx]\n",
    "        item = {key: torch.tensor(val) for key, val in encodings.items()}\n",
    "        item[\"labels\"] = torch.tensor(labels)\n",
    "        return item\n",
    "\n",
    "    def __len__(self):\n",
    "        return len(self.data)"
   ]
  },
  {
   "cell_type": "markdown",
   "metadata": {
    "id": "QqxDpI61TL50"
   },
   "source": [
    "## Run Training"
   ]
  },
  {
   "cell_type": "code",
   "execution_count": null,
   "metadata": {
    "id": "kbY3ER2QTL50"
   },
   "outputs": [],
   "source": [
    "# model_dir = Path(f\"{HOMEDIR}/en_ner_model/\").expanduser()\n",
    "model_dir = pre_trained_model_path\n",
    "\n",
    "tokenizer = BertTokenizerFast.from_pretrained(\n",
    "    str(model_dir), max_len=512, truncation=True, padding=True\n",
    ")"
   ]
  },
  {
   "cell_type": "code",
   "execution_count": null,
   "metadata": {
    "id": "JyJe8FaPTL51",
    "outputId": "031a558d-10c4-45d4-8f2a-9e8e1d8fec91"
   },
   "outputs": [],
   "source": [
    "data_dir = Path(f\"{DATADIR}/ner_data/\").expanduser()\n",
    "if SSEA_TRAINING:\n",
    "    data_dir = Path(f\"{DATADIR}/SSEA/processed/\").expanduser()\n",
    "\n",
    "langs = \"ja\"  # \"en\" # \"**\"\n",
    "train_data_path = list(data_dir.glob(f\"./{langs}/ner/*-training.json\"))\n",
    "val_data_path = list(data_dir.glob(f\"./{langs}/ner/*-validation.json\"))\n",
    "test_data_path = list(data_dir.glob(f\"./{langs}/ner/*-testing.json\"))\n",
    "\n",
    "if SSEA_TRAINING:\n",
    "    train_data_path = list(data_dir.glob(f\"./{langs}/aligned/*-training.json\"))\n",
    "    test_data_path = list(data_dir.glob(f\"./{langs}/aligned/*-testing.json\"))\n",
    "train_data_path"
   ]
  },
  {
   "cell_type": "code",
   "execution_count": null,
   "metadata": {
    "id": "-jOzJadeTL52",
    "outputId": "f1b931b7-cc54-456c-cc77-4702682c74c1"
   },
   "outputs": [],
   "source": [
    "train_dataset = NERDataset(train_data_path, tokenizer)\n",
    "val_dataset = []\n",
    "if not SSEA_TRAINING:\n",
    "    val_dataset = NERDataset(val_data_path, tokenizer)"
   ]
  },
  {
   "cell_type": "code",
   "execution_count": null,
   "metadata": {
    "id": "98D3s-xeTL52",
    "outputId": "997c9e4a-2392-42e9-9d23-da106141eea7"
   },
   "outputs": [],
   "source": [
    "len(train_dataset), len(val_dataset)"
   ]
  },
  {
   "cell_type": "code",
   "execution_count": null,
   "metadata": {
    "id": "4mg7E0R3TL53",
    "outputId": "69416afc-2197-4892-870b-af5cdf08aa16"
   },
   "outputs": [],
   "source": [
    "model_prefix = \"multi\" if langs == \"**\" else langs\n",
    "ner_model_dir = str(Path(f\"{HOMEDIR}/{model_prefix}_ner_model\").expanduser())\n",
    "logging_dir = str(Path(f\"{HOMEDIR}/{model_prefix}_ner_logs\").expanduser())\n",
    "\n",
    "data_collator = DataCollatorForTokenClassification(\n",
    "    tokenizer=tokenizer, padding=True, max_length=tokenizer.max_len\n",
    ")\n",
    "\n",
    "eval_every_steps = 1  # -1 for eval at end\n",
    "\n",
    "training_args = TrainingArguments(\n",
    "    output_dir=str(ner_model_dir),  # output directory\n",
    "    num_train_epochs=3,  # total number of training epochs\n",
    "    per_device_train_batch_size=16,  # batch size per device during training\n",
    "    per_device_eval_batch_size=64,  # batch size for evaluation\n",
    "    warmup_steps=500,  # number of warmup steps for learning rate scheduler\n",
    "    weight_decay=0.01,  # strength of weight decay\n",
    "    logging_dir=str(logging_dir),  # directory for storing logs\n",
    "    logging_steps=10,\n",
    "    # evaluation_strategy=\"steps\",\n",
    "    # eval_steps=100,\n",
    "    save_steps=500 if eval_every_steps < 1 else eval_every_steps,\n",
    "    save_total_limit=2 if eval_every_steps < 1 else None,\n",
    "    max_steps=-1 if eval_every_steps < 1 else 5,\n",
    "    label_names=[id2label[i] for i in range(len(id2label))],\n",
    ")\n",
    "\n",
    "\n",
    "def train_model():\n",
    "    model = BertForTokenClassification.from_pretrained(\n",
    "        str(model_dir), num_labels=len(label2id), id2label=id2label, label2id=label2id\n",
    "    )\n",
    "    trainer = Trainer(\n",
    "        model=model,  # the instantiated 🤗 Transformers model to be trained\n",
    "        args=training_args,  # training arguments, defined above\n",
    "        train_dataset=train_dataset,  # training dataset\n",
    "        eval_dataset=val_dataset,  # evaluation dataset\n",
    "        data_collator=data_collator,\n",
    "        tokenizer=tokenizer,\n",
    "    )\n",
    "    trainer.train()\n",
    "    trainer.save_model(ner_model_dir)\n",
    "    tokenizer.save_pretrained(ner_model_dir)\n",
    "    return model, trainer"
   ]
  },
  {
   "cell_type": "code",
   "execution_count": null,
   "metadata": {
    "id": "F3Ku86x2TL53",
    "outputId": "9a668a27-ecb4-4b7d-fd79-ff50ac2039c8"
   },
   "outputs": [],
   "source": [
    "%%time\n",
    "model, trainer = train_model()"
   ]
  },
  {
   "cell_type": "markdown",
   "metadata": {
    "id": "OWcDvFUoTL55"
   },
   "source": [
    "## Run evaluation"
   ]
  },
  {
   "cell_type": "code",
   "execution_count": null,
   "metadata": {
    "id": "lyWgYXEfTL55"
   },
   "outputs": [],
   "source": [
    "from typing import Any, Callable, Dict, List, NewType, Optional, Tuple, Union\n",
    "\n",
    "import numpy as np\n",
    "import pandas as pd\n",
    "import torch\n",
    "from tqdm import trange\n",
    "from transformers import (\n",
    "    AutoModelForTokenClassification,\n",
    "    AutoTokenizer,\n",
    "    Pipeline,\n",
    "    TokenClassificationPipeline,\n",
    "    pipeline,\n",
    ")\n",
    "\n",
    "from seqeval.metrics import accuracy_score, f1_score, precision_score, recall_score"
   ]
  },
  {
   "cell_type": "code",
   "execution_count": null,
   "metadata": {
    "id": "hcQw64z9TL55"
   },
   "outputs": [],
   "source": [
    "ner_model_dir = str(Path(f\"{HOMEDIR}/{model_prefix}_ner_model/\").expanduser())\n",
    "\n",
    "model = AutoModelForTokenClassification.from_pretrained(ner_model_dir)\n",
    "tokenizer = BertTokenizerFast.from_pretrained(\n",
    "    str(ner_model_dir), max_len=512, truncation=True, padding=True\n",
    ")"
   ]
  },
  {
   "cell_type": "code",
   "execution_count": null,
   "metadata": {
    "id": "J4ZnSsskTL55"
   },
   "outputs": [],
   "source": [
    "ner_pipeline = SplitTokenClassificationPipeline(\n",
    "    model=model, tokenizer=tokenizer, grouped_entities=False, ignore_labels=[], device=0\n",
    ")"
   ]
  },
  {
   "cell_type": "code",
   "execution_count": null,
   "metadata": {
    "id": "fQl55i9NTL56"
   },
   "outputs": [],
   "source": [
    "data_dir = Path(f\"{DATADIR}/ner_data/\").expanduser()\n",
    "langs = \"**\"\n",
    "train_data_path = list(data_dir.glob(f\"./{langs}/ner/*-training.json\"))\n",
    "val_data_path = list(data_dir.glob(f\"./{langs}/ner/*-validation.json\"))\n",
    "test_data_path = list(data_dir.glob(f\"./{langs}/ner/*-testing.json\"))\n",
    "extra_label_map = None\n",
    "if WIKI_TRAINING:\n",
    "    extra_label_map = {\n",
    "        \"B_PLACE\": \"B_LOCATION\",\n",
    "        \"I_PLACE\": \"I_LOCATION\",\n",
    "        \"B_PRODUCT\": \"O_NOT_AN_ENTITY\",\n",
    "        \"I_PRODUCT\": \"O_NOT_AN_ENTITY\",\n",
    "        \"B_OTHER\": \"O_NOT_AN_ENTITY\",\n",
    "        \"I_OTHER\": \"O_NOT_AN_ENTITY\",\n",
    "    }"
   ]
  },
  {
   "cell_type": "code",
   "execution_count": null,
   "metadata": {
    "id": "3GByREKcTL56",
    "outputId": "65e31777-8f35-4d6f-f4ac-75e40d40d8e9"
   },
   "outputs": [],
   "source": [
    "%%time\n",
    "reports = {}\n",
    "for test_path in test_data_path:\n",
    "    lang = test_path.name.split(\"-\")[1]\n",
    "    print(lang, test_path.name)\n",
    "    report = run_eval(test_path, ner_pipeline, extra_label_map=extra_label_map)\n",
    "    reports[lang] = report"
   ]
  },
  {
   "cell_type": "code",
   "execution_count": null,
   "metadata": {
    "id": "HqajEjBqTL56",
    "outputId": "44f269f3-2242-4be2-c397-49119a80c0b3"
   },
   "outputs": [],
   "source": [
    "df_report = pd.concat(reports)\n",
    "df_report"
   ]
  },
  {
   "cell_type": "code",
   "execution_count": null,
   "metadata": {
    "id": "oU1lSiB5TL57"
   },
   "outputs": [],
   "source": [
    "df_report.to_csv(Path(ner_model_dir) / \"test_eval_report.txt\", sep=\"\\t\")"
   ]
  },
  {
   "cell_type": "code",
   "execution_count": null,
   "metadata": {
    "id": "7ge5M7xSTL57",
    "outputId": "2d74d09c-0a6b-47d6-8af6-4fe19e1722eb"
   },
   "outputs": [],
   "source": [
    "df_report[df_report.index.isin([\"micro avg\"], level=1)]"
   ]
  },
  {
   "cell_type": "code",
   "execution_count": null,
   "metadata": {
    "id": "_efM3sJzTL57",
    "outputId": "055f0b66-9133-4f21-bd57-b6450b081e44"
   },
   "outputs": [],
   "source": [
    "df_report = pd.read_csv(\n",
    "    Path(ner_model_dir) / \"test_eval_report.txt\", sep=\"\\t\", index_col=[0, 1]\n",
    ")\n",
    "df_report[df_report.index.isin([\"micro avg\"], level=1)]"
   ]
  },
  {
   "cell_type": "code",
   "execution_count": null,
   "metadata": {
    "id": "u9Z5lz2eTL58",
    "outputId": "4800ce1f-256f-4a0a-d66b-4a5062c0e286"
   },
   "outputs": [],
   "source": [
    "if Path(f\"{HOMEDIR}/test_eval_report.txt\").expanduser().exists():\n",
    "    df_report = pd.read_csv(\n",
    "        f\"{HOMEDIR}/test_eval_report.txt\", sep=\"\\t\", index_col=[0, 1]\n",
    "    )\n",
    "df_report[df_report.index.isin([\"micro avg\"], level=1)]"
   ]
  },
  {
   "cell_type": "markdown",
   "metadata": {
    "id": "82JirX2RTL58"
   },
   "source": [
    "### Evaluation on SSEA"
   ]
  },
  {
   "cell_type": "code",
   "execution_count": null,
   "metadata": {
    "id": "r1tl5rqGTL58",
    "outputId": "e5646be6-b377-46e4-bc12-0659ce545cd7"
   },
   "outputs": [],
   "source": [
    "data_dir = Path(f\"{DATADIR}/SSEA/processed/\").expanduser()\n",
    "langs = \"**\"\n",
    "extra_label_map = None\n",
    "train_data_path = list(data_dir.glob(f\"./{langs}/aligned/*-training.json\"))\n",
    "val_data_path = list(data_dir.glob(f\"./{langs}/aligned/*-validation.json\"))\n",
    "test_data_path = list(data_dir.glob(f\"./{langs}/aligned/*-testing.json\"))\n",
    "len(train_data_path)"
   ]
  },
  {
   "cell_type": "code",
   "execution_count": null,
   "metadata": {
    "id": "9p2BR25ITL58",
    "outputId": "138a2a4e-c87c-4a2d-cdba-efbeaad3eaf5"
   },
   "outputs": [],
   "source": [
    "%%time\n",
    "reports = {}\n",
    "for test_path in test_data_path:\n",
    "    lang = test_path.parts[-3]\n",
    "    print(lang, test_path.name)\n",
    "    report = run_eval(test_path, ner_pipeline)\n",
    "    reports[lang] = report"
   ]
  },
  {
   "cell_type": "code",
   "execution_count": null,
   "metadata": {
    "id": "dg63ZXGQTL58",
    "outputId": "954d6cd3-fe86-4d2d-f1d6-53bfcdb0c1cc"
   },
   "outputs": [],
   "source": [
    "df_report_ssea = pd.concat(reports)\n",
    "df_report_ssea"
   ]
  },
  {
   "cell_type": "code",
   "execution_count": null,
   "metadata": {
    "id": "jL2cs0SGTL59"
   },
   "outputs": [],
   "source": [
    "df_report_ssea.to_csv(Path(ner_model_dir) / \"ssea_test_eval_report.txt\", sep=\"\\t\")"
   ]
  },
  {
   "cell_type": "code",
   "execution_count": null,
   "metadata": {
    "id": "iHY7wOhnTL59",
    "outputId": "410701e7-08d9-49f9-9916-b71d4a582a3e"
   },
   "outputs": [],
   "source": [
    "df_report_ssea[df_report_ssea.index.isin([\"micro avg\"], level=1)]"
   ]
  },
  {
   "cell_type": "code",
   "execution_count": null,
   "metadata": {
    "id": "5VU51mPRTL59",
    "outputId": "c640a2bd-31ca-462c-a104-7d0dcb998cd0"
   },
   "outputs": [],
   "source": [
    "df_report_ssea = pd.read_csv(\n",
    "    Path(ner_model_dir) / \"ssea_test_eval_report.txt\", sep=\"\\t\", index_col=[0, 1]\n",
    ")\n",
    "df_report_ssea[df_report_ssea.index.isin([\"micro avg\"], level=1)]"
   ]
  },
  {
   "cell_type": "code",
   "execution_count": null,
   "metadata": {
    "id": "ZSxI-TPlTL59",
    "outputId": "ab74df51-2455-4bdf-9340-b8e67fbb15bf"
   },
   "outputs": [],
   "source": [
    "if Path(f\"{HOMEDIR}/ssea_test_eval_report.txt\").expanduser().exists():\n",
    "    df_report_ssea = pd.read_csv(\n",
    "        f\"{HOMEDIR}/ssea_test_eval_report.txt\", sep=\"\\t\", index_col=[0, 1]\n",
    "    )\n",
    "df_report_ssea[df_report_ssea.index.isin([\"micro avg\"], level=1)]"
   ]
  },
  {
   "cell_type": "code",
   "execution_count": null,
   "metadata": {
    "id": "E96b_eVuTL59",
    "outputId": "783595e1-d5f0-41fa-9409-6e77298ebee2"
   },
   "outputs": [],
   "source": [
    "%%time\n",
    "reports = {}\n",
    "for test_path in train_data_path:\n",
    "    lang = test_path.parts[-3]\n",
    "    print(lang, test_path.name)\n",
    "    report = run_eval(test_path, ner_pipeline)\n",
    "    reports[lang] = report"
   ]
  },
  {
   "cell_type": "code",
   "execution_count": null,
   "metadata": {
    "id": "47DsTjMRTL5-",
    "outputId": "c68e59ef-2953-4067-b8fd-bc5682359c08"
   },
   "outputs": [],
   "source": [
    "df_report_ssea = pd.concat(reports)\n",
    "df_report_ssea"
   ]
  },
  {
   "cell_type": "code",
   "execution_count": null,
   "metadata": {
    "id": "HkOX3mZBTL5-"
   },
   "outputs": [],
   "source": [
    "df_report_ssea.to_csv(Path(ner_model_dir) / \"ssea_train_eval_report.txt\", sep=\"\\t\")"
   ]
  },
  {
   "cell_type": "code",
   "execution_count": null,
   "metadata": {
    "id": "sYegKx6ZTL5-",
    "outputId": "4bf192d9-59b5-49b9-e009-8afb1d4b2638"
   },
   "outputs": [],
   "source": [
    "df_report_ssea[df_report_ssea.index.isin([\"micro avg\"], level=1)]"
   ]
  },
  {
   "cell_type": "markdown",
   "metadata": {
    "id": "7FyAwOWETL5_"
   },
   "source": [
    "## Evaluate all checkpoints"
   ]
  },
  {
   "cell_type": "code",
   "execution_count": null,
   "metadata": {
    "id": "feLGgtiTTL5_"
   },
   "outputs": [],
   "source": [
    "from IPython.display import display"
   ]
  },
  {
   "cell_type": "code",
   "execution_count": null,
   "metadata": {
    "id": "syLpVSV9TL6A",
    "outputId": "4ea9ce18-657a-4115-8fd9-98b891261a60"
   },
   "outputs": [],
   "source": [
    "%%time\n",
    "eval_lang = \"ja\"\n",
    "for ner_model_dir in (\n",
    "    Path(f\"{HOMEDIR}/{model_prefix}_ner_model/\").expanduser().glob(\"checkpoint-*\")\n",
    "):\n",
    "    print(ner_model_dir.name)\n",
    "    model = AutoModelForTokenClassification.from_pretrained(ner_model_dir)\n",
    "    tokenizer = BertTokenizerFast.from_pretrained(\n",
    "        str(ner_model_dir), max_len=512, truncation=True, padding=True\n",
    "    )\n",
    "    ner_pipeline = SplitTokenClassificationPipeline(\n",
    "        model=model,\n",
    "        tokenizer=tokenizer,\n",
    "        grouped_entities=False,\n",
    "        ignore_labels=[],\n",
    "        device=0,\n",
    "    )\n",
    "    reports = {}\n",
    "    for test_path in test_data_path:\n",
    "        lang = test_path.name.split(\"-\")[1]\n",
    "        if SSEA_TRAINING:\n",
    "            lang = test_path.parts[-3]\n",
    "            print(lang)\n",
    "        if lang != eval_lang:\n",
    "            continue\n",
    "        print(lang, test_path.name)\n",
    "        report = run_eval(test_path, ner_pipeline, extra_label_map=extra_label_map)\n",
    "        reports[lang] = report\n",
    "    df_report = pd.concat(reports)\n",
    "    df_report.to_csv(Path(ner_model_dir) / f\"test_eval_report.txt\", sep=\"\\t\")\n",
    "    display(df_report[df_report.index.isin([\"micro avg\"], level=1)])"
   ]
  },
  {
   "cell_type": "code",
   "execution_count": null,
   "metadata": {
    "id": "kUoJkSBhTL6A",
    "outputId": "2e1fb880-2292-4d7d-87f5-463949dc0746"
   },
   "outputs": [],
   "source": [
    "df_all_reports = {}\n",
    "for ner_model_dir in (\n",
    "    Path(f\"{HOMEDIR}/{model_prefix}_ner_model/\").expanduser().glob(\"checkpoint-*\")\n",
    "):\n",
    "    df_report = pd.read_csv(\n",
    "        Path(ner_model_dir) / \"test_eval_report.txt\", sep=\"\\t\", index_col=[0, 1]\n",
    "    )\n",
    "    df_all_reports[\n",
    "        ner_model_dir.name\n",
    "    ] = df_report\n",
    "\n",
    "df_all_reports = pd.concat(df_all_reports)\n",
    "df_all_reports.to_csv(\n",
    "    Path(ner_model_dir) / f\"../test_eval_report_{eval_lang}_all_checkpoints.txt\",\n",
    "    sep=\"\\t\",\n",
    ")\n",
    "df_all_reports[df_all_reports.index.isin([\"micro avg\"], level=2)]"
   ]
  },
  {
   "cell_type": "markdown",
   "metadata": {
    "id": "l4OQ7VQrTL6A"
   },
   "source": [
    "# Show Results"
   ]
  },
  {
   "cell_type": "code",
   "execution_count": null,
   "metadata": {
    "id": "FqHrv-uNTL6A",
    "outputId": "695d8e6f-e1f1-4a67-a181-c36d88d248a0"
   },
   "outputs": [],
   "source": [
    "df_report[df_report.index.isin([\"micro avg\"], level=1)]"
   ]
  },
  {
   "cell_type": "code",
   "execution_count": null,
   "metadata": {
    "id": "kSNWUEkITL6C"
   },
   "outputs": [],
   "source": []
  }
 ],
 "metadata": {
  "colab": {
   "collapsed_sections": [],
   "name": "Finetune_NER.ipynb",
   "provenance": [],
   "toc_visible": true
  },
  "kernelspec": {
   "display_name": "Python 3",
   "language": "python",
   "name": "python3"
  },
  "language_info": {
   "codemirror_mode": {
    "name": "ipython",
    "version": 3
   },
   "file_extension": ".py",
   "mimetype": "text/x-python",
   "name": "python",
   "nbconvert_exporter": "python",
   "pygments_lexer": "ipython3",
   "version": "3.7.3"
  },
  "mldash_entity": {
   "created_at_millis": 1615486323491,
   "hash": "b097da70736ce0896cef759d0083f365280cb08d",
   "inferred_pdp_safe": false,
   "is_vfs_dir": false,
   "marked_pdp_safe": false,
   "owner": "smishra",
   "shared_to_everyone": false,
   "shared_to_ldap_groups": [],
   "shared_to_ldap_users": [],
   "size": 7608,
   "tags": [],
   "uuid": "1370075059071508480",
   "vfs_path": "/user/smishra/notebooks/NLPLib/Finetune_NER.ipynb"
  }
 },
 "nbformat": 4,
 "nbformat_minor": 4
}
